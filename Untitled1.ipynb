{
 "cells": [
  {
   "cell_type": "code",
   "execution_count": null,
   "id": "8ae65be4",
   "metadata": {},
   "outputs": [
    {
     "name": "stderr",
     "output_type": "stream",
     "text": [
      "WARNING:absl:Compiled the loaded model, but the compiled metrics have yet to be built. `model.compile_metrics` will be empty until you train or evaluate the model.\n"
     ]
    },
    {
     "name": "stdout",
     "output_type": "stream",
     "text": [
      "Press 's' to capture your move, 'q' to quit.\n"
     ]
    }
   ],
   "source": [
    "import cv2\n",
    "import numpy as np\n",
    "import tensorflow as tf\n",
    "import random\n",
    "\n",
    "# Load the trained model\n",
    "model = tf.keras.models.load_model(\"rps_model.h5\")\n",
    "\n",
    "# Class labels (update if your class names differ)\n",
    "class_names = ['paper', 'rock', 'scissors']  # Adjust order if necessary\n",
    "# If you used background class and it's included, remove it for the game logic\n",
    "\n",
    "# Resize target\n",
    "IMG_SIZE = 224\n",
    "\n",
    "# Game logic\n",
    "def get_winner(user, computer):\n",
    "    if user == computer:\n",
    "        return \"Draw\"\n",
    "    elif (user == 'rock' and computer == 'scissors') or \\\n",
    "         (user == 'scissors' and computer == 'paper') or \\\n",
    "         (user == 'paper' and computer == 'rock'):\n",
    "        return \"You Win!\"\n",
    "    else:\n",
    "        return \"Computer Wins!\"\n",
    "\n",
    "# Webcam capture\n",
    "cap = cv2.VideoCapture(0)\n",
    "\n",
    "print(\"Press 's' to capture your move, 'q' to quit.\")\n",
    "\n",
    "while True:\n",
    "    ret, frame = cap.read()\n",
    "    if not ret:\n",
    "        break\n",
    "\n",
    "    # Display the frame\n",
    "    cv2.rectangle(frame, (100, 100), (324, 324), (0, 255, 0), 2)\n",
    "    cv2.putText(frame, \"Place hand in the box\", (90, 90), cv2.FONT_HERSHEY_SIMPLEX, 0.6, (255, 255, 255), 2)\n",
    "    cv2.imshow(\"Rock Paper Scissors\", frame)\n",
    "\n",
    "    key = cv2.waitKey(1)\n",
    "\n",
    "    if key == ord('s'):\n",
    "        roi = frame[100:324, 100:324]\n",
    "        image = cv2.resize(roi, (IMG_SIZE, IMG_SIZE))\n",
    "        image = image / 255.0\n",
    "        image = np.expand_dims(image, axis=0)\n",
    "\n",
    "        pred = model.predict(image)[0]\n",
    "        user_move = class_names[np.argmax(pred)]\n",
    "        computer_move = random.choice(class_names)\n",
    "        result = get_winner(user_move, computer_move)\n",
    "\n",
    "        print(f\"Your move: {user_move}\")\n",
    "        print(f\"Computer move: {computer_move}\")\n",
    "        print(f\"Result: {result}\")\n",
    "\n",
    "    elif key == ord('q'):\n",
    "        break\n",
    "\n",
    "cap.release()\n",
    "cv2.destroyAllWindows()\n"
   ]
  },
  {
   "cell_type": "code",
   "execution_count": null,
   "id": "25ca7f97",
   "metadata": {},
   "outputs": [],
   "source": []
  }
 ],
 "metadata": {
  "kernelspec": {
   "display_name": "Python 3 (ipykernel)",
   "language": "python",
   "name": "python3"
  },
  "language_info": {
   "codemirror_mode": {
    "name": "ipython",
    "version": 3
   },
   "file_extension": ".py",
   "mimetype": "text/x-python",
   "name": "python",
   "nbconvert_exporter": "python",
   "pygments_lexer": "ipython3",
   "version": "3.11.5"
  }
 },
 "nbformat": 4,
 "nbformat_minor": 5
}
